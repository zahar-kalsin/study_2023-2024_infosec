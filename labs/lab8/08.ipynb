{
 "cells": [
  {
   "cell_type": "code",
   "execution_count": 1,
   "id": "1f401826",
   "metadata": {},
   "outputs": [],
   "source": [
    "a = ord(\"а\")\n",
    "alph = [ chr(i) for i in range (a, a+32)]\n",
    "a = ord(\"0\")\n",
    "for i in range(a, a+10):\n",
    "    alph.append(chr(i))\n",
    "a = ord(\"А\")\n",
    "for i in range(1040, 1072):\n",
    "    alph.append(chr(i))\n",
    "\n",
    "P1=\"НаВашИсходящийот1204\"\n",
    "P2=\"ВСеверныйФилиалБанка\""
   ]
  },
  {
   "cell_type": "code",
   "execution_count": 2,
   "id": "79682772",
   "metadata": {},
   "outputs": [],
   "source": [
    "def vzlom(P1, P2):\n",
    "    code = []\n",
    "    for i in range(20):\n",
    "        code.append(alph[(alph.index(P1[i]) + alph.index(P2[i])) %len(alph) ])\n",
    "    print(code)\n",
    "    p3 = \"\".join(code)\n",
    "    print(p3)"
   ]
  },
  {
   "cell_type": "code",
   "execution_count": 3,
   "id": "4201a56a",
   "metadata": {},
   "outputs": [
    {
     "name": "stdout",
     "output_type": "stream",
     "text": [
      "['щ', 'С', 'З', 'в', 'э', 'Ш', 'ю', 'Ж', 'ч', 'Ш', '7', '4', 'р', 'й', 'щ', 'У', '1', 'Е', 'А', '4']\n",
      "щСЗвэШюЖчШ74рйщУ1ЕА4\n"
     ]
    }
   ],
   "source": [
    "vzlom(P1, P2)"
   ]
  },
  {
   "cell_type": "code",
   "execution_count": 5,
   "id": "f8e3346f",
   "metadata": {},
   "outputs": [],
   "source": [
    "gamma = \"щСЗвэШюЖчШ74рйщУ1ЕА4\""
   ]
  },
  {
   "cell_type": "code",
   "execution_count": 12,
   "id": "5c403036",
   "metadata": {},
   "outputs": [],
   "source": [
    "def shifr(P1, gamma):\n",
    "    dicts = {\"а\": 1, \"б\": 2, \"в\": 3, \"г\": 4, \"д\": 5, \"е\": 6, \"ё\": 7, \"ж\": 8, \"з\": 9, \"и\": 10,\n",
    "             \"й\": 11, \"к\": 12, \"л\": 13, \"м\": 14, \"н\": 15, \"о\": 16, \"п\": 17, \"р\": 18, \"с\": 19, \n",
    "             \"т\": 20, \"у\": 21, \"ф\": 22, \"х\": 23, \"ц\": 24, \"ч\": 25, \"ш\": 26, \"щ\": 27, \"ъ\": 28, \n",
    "             \"ы\": 29, \"ь\": 30, \"э\": 31, \"ю\": 32, \"я\": 32, \"А\":33 , \"Б\": 34, \"В\": 35 , \"Г\":36,\n",
    "             \"Д\":37 , \"Е\":38 , \"Ё\":39 , \"Ж\":40 , \"З\":41, \"И\":42,\"Й\":43 , \"К\":44 , \"Л\":45 , \n",
    "             \"М\":46 , \"Н\":47 , \"О\":48 , \"П\":49 , \"Р\":50 , \"С\":51 , \"Т\":52 , \"У\":53 , \"Ф\":54, \n",
    "             \"Х\":55 , \"Ц\":56 , \"Ч\":57, \"Ш\":58,\"Щ\":59 , \"Ъ\":60 , \"Ы\":61 , \"Ь\":62 , \"Э\":63 , \n",
    "             \"Ю\":64 , \"Я\":65 , \"1\":66 , \"2\":67 , \"3\":68 , \"4\":69 , \"5\":70 , \"6\":71 , \n",
    "             \"7\": 72, \"8\":73 , \"9\":74 , \"0\":75\n",
    "    }\n",
    "    dict2 = {v: k for k, v in dicts.items()}\n",
    "    text = P1\n",
    "    digits_gamma = []\n",
    "    digits_text = []\n",
    "    \n",
    "    for i in text:\n",
    "        digits_text.append(dicts[i])\n",
    "    print(\"числа текста \", digits_text)\n",
    "    \n",
    "    for i in gamma:\n",
    "        digits_gamma.append(dicts[i])\n",
    "    print(\"Числа гаммы \", digits_gamma)\n",
    "    \n",
    "    digits_result = []\n",
    "    ch = 0\n",
    "    for i in text:\n",
    "        try:\n",
    "            a = dicts[i] + digits_gamma[ch]\n",
    "        except:\n",
    "            ch = 0\n",
    "            a = dicts[i] + digits_gamma[ch]\n",
    "        if a > 75:\n",
    "            a = a%75\n",
    "            print(a)\n",
    "        ch = ch + 1\n",
    "        digits_result.append(a)\n",
    "    \n",
    "    print(\"Числа шифра: \", digits_result)\n",
    "    \n",
    "    text_crypted = \"\"\n",
    "    for i in digits_result:\n",
    "        text_crypted = text_crypted + dict2[i]\n",
    "    print(\"шифровка\", text_crypted)\n",
    "    \n",
    "    digits = []\n",
    "    for i in text_crypted:\n",
    "        digits.append(dicts[i])\n",
    "    ch = 0\n",
    "    digits1 = []\n",
    "    for i in digits:\n",
    "        try:\n",
    "            a = i - digits_gamma[ch]\n",
    "        except:\n",
    "            a = i - digits_gamma[ch]\n",
    "        if a<1:\n",
    "            a = 75 + a\n",
    "        digits1.append(a)\n",
    "        ch = ch + 1\n",
    "    text_decr = \"\"\n",
    "    for i in digits1:\n",
    "        text_decr = text_decr + dict2[i]\n",
    "    print(\"Расшифровка \", text_decr)"
   ]
  },
  {
   "cell_type": "code",
   "execution_count": 13,
   "id": "ffa7b4a2",
   "metadata": {},
   "outputs": [
    {
     "name": "stdout",
     "output_type": "stream",
     "text": [
      "числа текста  [47, 1, 35, 1, 26, 42, 19, 23, 16, 5, 32, 27, 10, 11, 16, 20, 66, 67, 75, 69]\n",
      "Числа гаммы  [27, 51, 41, 3, 31, 58, 32, 40, 25, 58, 72, 69, 18, 11, 27, 53, 66, 38, 33, 69]\n",
      "1\n",
      "25\n",
      "29\n",
      "21\n",
      "57\n",
      "30\n",
      "33\n",
      "63\n",
      "Числа шифра:  [74, 52, 1, 4, 57, 25, 51, 63, 41, 63, 29, 21, 28, 22, 43, 73, 57, 30, 33, 63]\n",
      "шифровка 9ТагЧчСЭЗЭыуъфЙ8ЧьАЭ\n",
      "Расшифровка  НаВашИсходящийот1204\n"
     ]
    }
   ],
   "source": [
    "shifr(P1, gamma)"
   ]
  },
  {
   "cell_type": "code",
   "execution_count": null,
   "id": "f0c7b408",
   "metadata": {},
   "outputs": [],
   "source": []
  }
 ],
 "metadata": {
  "kernelspec": {
   "display_name": "Python 3 (ipykernel)",
   "language": "python",
   "name": "python3"
  },
  "language_info": {
   "codemirror_mode": {
    "name": "ipython",
    "version": 3
   },
   "file_extension": ".py",
   "mimetype": "text/x-python",
   "name": "python",
   "nbconvert_exporter": "python",
   "pygments_lexer": "ipython3",
   "version": "3.9.9"
  }
 },
 "nbformat": 4,
 "nbformat_minor": 5
}
